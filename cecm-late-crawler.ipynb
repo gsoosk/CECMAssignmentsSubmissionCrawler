{
 "cells": [
  {
   "cell_type": "markdown",
   "metadata": {},
   "source": [
    "# CECM Late Crawler\n",
    "\n",
    "This code crawle status of submissions. \n",
    "\n",
    "* You should have a csv containing student ids.\n",
    "* You can use [hadi's repository](https://github.com/hadisfr/cecm-sid-crawler) to crawle student ids."
   ]
  },
  {
   "cell_type": "code",
   "execution_count": 22,
   "metadata": {},
   "outputs": [],
   "source": [
    "import requests\n",
    "import re\n",
    "from getpass import getpass\n",
    "import pandas as pd"
   ]
  },
  {
   "cell_type": "code",
   "execution_count": 23,
   "metadata": {},
   "outputs": [
    {
     "name": "stdout",
     "output_type": "stream",
     "text": [
      "Get Students from CECM\n",
      "AssignmentID: \n"
     ]
    },
    {
     "ename": "ValueError",
     "evalue": "invalid literal for int() with base 10: ''",
     "output_type": "error",
     "traceback": [
      "\u001b[0;31m---------------------------------------------------------------------------\u001b[0m",
      "\u001b[0;31mValueError\u001b[0m                                Traceback (most recent call last)",
      "\u001b[0;32m<ipython-input-23-5d4b63997edc>\u001b[0m in \u001b[0;36m<module>\u001b[0;34m()\u001b[0m\n\u001b[1;32m      1\u001b[0m \u001b[0mprint\u001b[0m\u001b[0;34m(\u001b[0m\u001b[0;34m\"Get Students from CECM\"\u001b[0m\u001b[0;34m)\u001b[0m\u001b[0;34m\u001b[0m\u001b[0m\n\u001b[0;32m----> 2\u001b[0;31m \u001b[0massignment_id\u001b[0m \u001b[0;34m=\u001b[0m \u001b[0mint\u001b[0m\u001b[0;34m(\u001b[0m\u001b[0minput\u001b[0m\u001b[0;34m(\u001b[0m\u001b[0;34m\"AssignmentID: \"\u001b[0m\u001b[0;34m)\u001b[0m\u001b[0;34m)\u001b[0m\u001b[0;34m\u001b[0m\u001b[0m\n\u001b[0m\u001b[1;32m      3\u001b[0m \u001b[0msession\u001b[0m \u001b[0;34m=\u001b[0m \u001b[0mgetpass\u001b[0m\u001b[0;34m(\u001b[0m\u001b[0;34m\"Session[MoodleSession]: \"\u001b[0m\u001b[0;34m)\u001b[0m\u001b[0;34m\u001b[0m\u001b[0m\n\u001b[1;32m      4\u001b[0m \u001b[0mid_csv_path\u001b[0m \u001b[0;34m=\u001b[0m \u001b[0minput\u001b[0m\u001b[0;34m(\u001b[0m\u001b[0;34m\"CSV Containing IDs Path: \"\u001b[0m\u001b[0;34m)\u001b[0m\u001b[0;34m\u001b[0m\u001b[0m\n\u001b[1;32m      5\u001b[0m \u001b[0mfile_name\u001b[0m \u001b[0;34m=\u001b[0m \u001b[0minput\u001b[0m\u001b[0;34m(\u001b[0m\u001b[0;34m\"Output CSV File Name: \"\u001b[0m\u001b[0;34m)\u001b[0m\u001b[0;34m\u001b[0m\u001b[0m\n",
      "\u001b[0;31mValueError\u001b[0m: invalid literal for int() with base 10: ''"
     ]
    }
   ],
   "source": [
    "print(\"Get Late Submissions from CECM\")\n",
    "assignment_id = int(input(\"AssignmentID: \"))\n",
    "session = getpass(\"Session[MoodleSession]: \")\n",
    "id_csv_path = input(\"CSV Containing IDs Path: \")\n",
    "file_name = input(\"Output CSV File Name: \")"
   ]
  },
  {
   "cell_type": "code",
   "execution_count": 33,
   "metadata": {},
   "outputs": [],
   "source": [
    "def get_late_submissions(session, assignment_id):\n",
    "    request_response = requests.post(\n",
    "        f\"https://cecm.ut.ac.ir/mod/assign/view.php?id={assignment_id}&action=grading\", \n",
    "        cookies={'MoodleSession': session},\n",
    "        data={\n",
    "            'unified-filters[]': \"4:5\",  # role: student\n",
    "            'unified-filter-submitted': 1,\n",
    "        }\n",
    "    ).text.replace(\"\\n\", \"\")\n",
    "    late_pattern = (\n",
    "        r'<tr[^>]*class=\"user(?P<id>[0-9]+)[^>]*>.*?'\n",
    "        r'<td class=\"cell c2\"[^>]*>.*?<a[^>]*>(?P<name>[^<]+)</a></td>.*?'\n",
    "        r'<td class=\"cell c4\"[^>]*>.*?<div[^>]*>(?P<status>[^<]+)</div></td>.*?'\n",
    "        r'</tr>'\n",
    "    )\n",
    "    return [entry.groupdict() for entry in re.finditer(late_pattern, request_response)]"
   ]
  },
  {
   "cell_type": "code",
   "execution_count": 42,
   "metadata": {},
   "outputs": [],
   "source": [
    "lates = get_late_submissions(session, assignment_id)"
   ]
  },
  {
   "cell_type": "code",
   "execution_count": 43,
   "metadata": {},
   "outputs": [],
   "source": [
    "lates_csv = pd.read_csv(id_csv_path, index_col='id')"
   ]
  },
  {
   "cell_type": "code",
   "execution_count": 44,
   "metadata": {},
   "outputs": [],
   "source": [
    "lates_csv['late'] = 'Not Submitted'\n",
    "lates_csv['name'] = 'Not Submitted'"
   ]
  },
  {
   "cell_type": "code",
   "execution_count": 45,
   "metadata": {},
   "outputs": [],
   "source": [
    "for late in lates :\n",
    "    lates_csv.at[int(late['id']), 'name'] = late['name']\n",
    "    lates_csv.at[int(late['id']), 'late'] = late['status']"
   ]
  },
  {
   "cell_type": "code",
   "execution_count": 46,
   "metadata": {},
   "outputs": [],
   "source": [
    "def cint(x):\n",
    "    return int(x) if x else 0"
   ]
  },
  {
   "cell_type": "code",
   "execution_count": 47,
   "metadata": {},
   "outputs": [],
   "source": [
    "def AP_grade_system_mapper(s): \n",
    "    if s == 'Not Submitted':\n",
    "        return -1\n",
    "    elif s == 'Submitted for grading':\n",
    "        return 0\n",
    "    else :\n",
    "        times = re.search('((?P<days>[0-9]+) days )?((?P<hours>[0-9]+) hours )?((?P<mins>[0-9]+) mins )?((?P<secs>[0-9]+) secs )?', s).groupdict()\n",
    "        days, hours, mins, secs = cint(times['days']), cint(times['hours']), cint(times['mins']), cint(times['secs'])\n",
    "        total_time_in_mins = days*24*60 + hours*60 + mins\n",
    "        if total_time_in_mins <= 4: return  0\n",
    "        elif total_time_in_mins <= 3*60: return  0.3\n",
    "        elif total_time_in_mins >= 75*60: return  -1\n",
    "        else: return int((total_time_in_mins - 3*60) / (24*60)) + 1.3"
   ]
  },
  {
   "cell_type": "code",
   "execution_count": 48,
   "metadata": {},
   "outputs": [],
   "source": [
    "lates_csv['late'] = lates_csv['late'].apply(AP_grade_system_mapper)"
   ]
  },
  {
   "cell_type": "code",
   "execution_count": 49,
   "metadata": {},
   "outputs": [],
   "source": [
    "lates_csv.to_csv(f'{file_name}.csv')"
   ]
  }
 ],
 "metadata": {
  "kernelspec": {
   "display_name": "Python 3",
   "language": "python",
   "name": "python3"
  },
  "language_info": {
   "codemirror_mode": {
    "name": "ipython",
    "version": 3
   },
   "file_extension": ".py",
   "mimetype": "text/x-python",
   "name": "python",
   "nbconvert_exporter": "python",
   "pygments_lexer": "ipython3",
   "version": "3.7.0"
  }
 },
 "nbformat": 4,
 "nbformat_minor": 2
}

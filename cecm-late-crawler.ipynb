{
 "cells": [
  {
   "cell_type": "markdown",
   "metadata": {
    "toc": true
   },
   "source": [
    "<h1>Table of Contents<span class=\"tocSkip\"></span></h1>\n",
    "<div class=\"toc\"><ul class=\"toc-item\"></ul></div>"
   ]
  },
  {
   "cell_type": "markdown",
   "metadata": {},
   "source": [
    "# CECM Late Crawler\n",
    "\n",
    "This code crawle status of submissions. \n",
    "\n",
    "* You should have a csv containing student ids.\n",
    "* You can use [hadi's repository](https://github.com/hadisfr/cecm-sid-crawler) to crawle student ids."
   ]
  },
  {
   "cell_type": "code",
   "execution_count": 1,
   "metadata": {},
   "outputs": [],
   "source": [
    "import requests\n",
    "import re\n",
    "from getpass import getpass\n",
    "import pandas as pd"
   ]
  },
  {
   "cell_type": "code",
   "execution_count": 2,
   "metadata": {},
   "outputs": [
    {
     "output_type": "stream",
     "name": "stdout",
     "text": "Get Late Submissions from CECM\n"
    },
    {
     "output_type": "error",
     "ename": "ValueError",
     "evalue": "invalid literal for int() with base 10: ''",
     "traceback": [
      "\u001b[0;31m---------------------------------------------------------------------------\u001b[0m",
      "\u001b[0;31mValueError\u001b[0m                                Traceback (most recent call last)",
      "\u001b[0;32m<ipython-input-2-8d64cc13b4f5>\u001b[0m in \u001b[0;36m<module>\u001b[0;34m\u001b[0m\n\u001b[1;32m      1\u001b[0m \u001b[0mprint\u001b[0m\u001b[0;34m(\u001b[0m\u001b[0;34m\"Get Late Submissions from CECM\"\u001b[0m\u001b[0;34m)\u001b[0m\u001b[0;34m\u001b[0m\u001b[0;34m\u001b[0m\u001b[0m\n\u001b[0;32m----> 2\u001b[0;31m \u001b[0massignment_id\u001b[0m \u001b[0;34m=\u001b[0m \u001b[0mint\u001b[0m\u001b[0;34m(\u001b[0m\u001b[0minput\u001b[0m\u001b[0;34m(\u001b[0m\u001b[0;34m\"AssignmentID: \"\u001b[0m\u001b[0;34m)\u001b[0m\u001b[0;34m)\u001b[0m\u001b[0;34m\u001b[0m\u001b[0;34m\u001b[0m\u001b[0m\n\u001b[0m\u001b[1;32m      3\u001b[0m \u001b[0msession\u001b[0m \u001b[0;34m=\u001b[0m \u001b[0mgetpass\u001b[0m\u001b[0;34m(\u001b[0m\u001b[0;34m\"Session[MoodleSession]: \"\u001b[0m\u001b[0;34m)\u001b[0m\u001b[0;34m\u001b[0m\u001b[0;34m\u001b[0m\u001b[0m\n\u001b[1;32m      4\u001b[0m \u001b[0mid_csv_path\u001b[0m \u001b[0;34m=\u001b[0m \u001b[0minput\u001b[0m\u001b[0;34m(\u001b[0m\u001b[0;34m\"CSV Containing IDs Path: \"\u001b[0m\u001b[0;34m)\u001b[0m\u001b[0;34m\u001b[0m\u001b[0;34m\u001b[0m\u001b[0m\n\u001b[1;32m      5\u001b[0m \u001b[0mfile_name\u001b[0m \u001b[0;34m=\u001b[0m \u001b[0minput\u001b[0m\u001b[0;34m(\u001b[0m\u001b[0;34m\"Output CSV File Name: \"\u001b[0m\u001b[0;34m)\u001b[0m\u001b[0;34m\u001b[0m\u001b[0;34m\u001b[0m\u001b[0m\n",
      "\u001b[0;31mValueError\u001b[0m: invalid literal for int() with base 10: ''"
     ]
    }
   ],
   "source": [
    "print(\"Get Late Submissions from CECM\")\n",
    "assignment_id = int(input(\"AssignmentID: \"))\n",
    "session = getpass(\"Session[MoodleSession]: \")\n",
    "id_csv_path = input(\"CSV Containing IDs Path: \")\n",
    "file_name = input(\"Output CSV File Name: \")"
   ]
  },
  {
   "cell_type": "code",
   "execution_count": 24,
   "metadata": {},
   "outputs": [],
   "source": [
    "def print_progressbar(title, i, l):\n",
    "    percentage = i / l * 100\n",
    "    print( title + \"\\t\" + \"%s\\t%.2f%% (%d of %d)\\t\\r\" % (int(percentage / 10) * \"|\" + (10 - int(percentage / 10)) * \".\", percentage, i, l), end='\\r')"
   ]
  },
  {
   "cell_type": "code",
   "execution_count": 25,
   "metadata": {},
   "outputs": [],
   "source": [
    "def get_late_submissions(session, assignment_id):\n",
    "\n",
    "    print_progressbar('Fetching Page' ,0, 100)\n",
    "    request_response = requests.post(\n",
    "        f\"https://cecm.ut.ac.ir/mod/assign/view.php?id={assignment_id}&action=grading\", \n",
    "        cookies={'MoodleSession': session},\n",
    "        data={\n",
    "            'unified-filters[]': \"4:5\",  # role: student\n",
    "            'unified-filter-submitted': 1,\n",
    "        }\n",
    "    ).text.replace(\"\\n\", \"\")\n",
    "    print_progressbar('Fetching Page' ,100, 100)\n",
    "    late_pattern = (\n",
    "        r'<tr[^>]*class=\"user(?P<id>[0-9]+)[^>]*>.*?'\n",
    "        r'<td class=\"cell c2\"[^>]*>.*?<a[^>]*>(?P<name>[^<]+)</a></td>.*?'\n",
    "        r'<td class=\"cell c4\"[^>]*>.*?<div[^>]*>(?P<status>[^<]+)</div></td>.*?'\n",
    "        r'</tr>'\n",
    "    )\n",
    "    founded = list(re.finditer(late_pattern, request_response))\n",
    "    groupdicts = []\n",
    "    for idx, entry in enumerate(founded):\n",
    "        groupdicts.append(entry.groupdict())\n",
    "        print_progressbar('Crawling Submissions' ,idx+1, len(founded))\n",
    "    return groupdicts"
   ]
  },
  {
   "cell_type": "code",
   "execution_count": 26,
   "metadata": {
    "scrolled": false
   },
   "outputs": [
    {
     "name": "stdout",
     "output_type": "stream",
     "text": [
      "Crawling Submissions\t||||||||||\t100.00% (57 of 57)\t"
     ]
    }
   ],
   "source": [
    "lates = get_late_submissions(session, assignment_id)"
   ]
  },
  {
   "cell_type": "code",
   "execution_count": 27,
   "metadata": {},
   "outputs": [],
   "source": [
    "lates_csv = pd.read_csv(id_csv_path, index_col='id')"
   ]
  },
  {
   "cell_type": "code",
   "execution_count": 28,
   "metadata": {},
   "outputs": [],
   "source": [
    "lates_csv['late'] = 'Not Submitted'\n",
    "lates_csv['name'] = 'Not Submitted'"
   ]
  },
  {
   "cell_type": "code",
   "execution_count": 29,
   "metadata": {},
   "outputs": [],
   "source": [
    "for idx, late in enumerate(lates) :\n",
    "    lates_csv.at[int(late['id']), 'name'] = late['name']\n",
    "    lates_csv.at[int(late['id']), 'late'] = late['status']"
   ]
  },
  {
   "cell_type": "code",
   "execution_count": 30,
   "metadata": {},
   "outputs": [],
   "source": [
    "def cint(x):\n",
    "    return int(x) if x else 0"
   ]
  },
  {
   "cell_type": "code",
   "execution_count": 31,
   "metadata": {},
   "outputs": [],
   "source": [
    "def AP_grade_system_mapper(s): \n",
    "    if s == 'Not Submitted':\n",
    "        return -1\n",
    "    elif s == 'Submitted for grading':\n",
    "        return 0\n",
    "    else :\n",
    "        times = re.search('((?P<days>[0-9]+) days )?((?P<day>[0-9]+) day )?((?P<hours>[0-9]+) hours )?((?P<hour>[0-9]+) hour )?((?P<mins>[0-9]+) mins )?((?P<min>[0-9]+) min )?((?P<secs>[0-9]+) secs )?', s).groupdict()\n",
    "        days, hours, mins, secs = cint(times['days'])+cint(times['day']), cint(times['hours'])+cint(times['hour']), cint(times['mins'])+cint(times['min']), cint(times['secs'])\n",
    "        total_time_in_mins = days*24*60 + hours*60 + mins\n",
    "\n",
    "        if total_time_in_mins <= 30: return  0\n",
    "        elif total_time_in_mins <= 60 * 24: return  1\n",
    "        elif total_time_in_mins <= 60 * 24 * 2 : return 2\n",
    "        elif total_time_in_mins <= 60 * 24 * 3 : return 3\n",
    "        else : return  -1\n"
   ]
  },
  {
   "cell_type": "code",
   "execution_count": 32,
   "metadata": {},
   "outputs": [],
   "source": [
    "lates_csv['late'] = lates_csv['late'].apply(AP_grade_system_mapper)"
   ]
  },
  {
   "cell_type": "code",
   "execution_count": 33,
   "metadata": {},
   "outputs": [],
   "source": [
    "lates_csv.to_csv(f'{file_name}.csv')"
   ]
  },
  {
   "cell_type": "code",
   "execution_count": 34,
   "metadata": {},
   "outputs": [
    {
     "data": {
      "text/html": [
       "<div>\n",
       "<style scoped>\n",
       "    .dataframe tbody tr th:only-of-type {\n",
       "        vertical-align: middle;\n",
       "    }\n",
       "\n",
       "    .dataframe tbody tr th {\n",
       "        vertical-align: top;\n",
       "    }\n",
       "\n",
       "    .dataframe thead th {\n",
       "        text-align: right;\n",
       "    }\n",
       "</style>\n",
       "<table border=\"1\" class=\"dataframe\">\n",
       "  <thead>\n",
       "    <tr style=\"text-align: right;\">\n",
       "      <th></th>\n",
       "      <th>late</th>\n",
       "      <th>name</th>\n",
       "    </tr>\n",
       "    <tr>\n",
       "      <th>id</th>\n",
       "      <th></th>\n",
       "      <th></th>\n",
       "    </tr>\n",
       "  </thead>\n",
       "  <tbody>\n",
       "    <tr>\n",
       "      <th>88891081</th>\n",
       "      <td>-1.00</td>\n",
       "      <td>Not Submitted</td>\n",
       "    </tr>\n",
       "    <tr>\n",
       "      <th>88894242</th>\n",
       "      <td>0.00</td>\n",
       "      <td>Ali bahari</td>\n",
       "    </tr>\n",
       "    <tr>\n",
       "      <th>88892635</th>\n",
       "      <td>2.33</td>\n",
       "      <td>Ali Saeizadeh</td>\n",
       "    </tr>\n",
       "    <tr>\n",
       "      <th>88894003</th>\n",
       "      <td>-1.00</td>\n",
       "      <td>Not Submitted</td>\n",
       "    </tr>\n",
       "    <tr>\n",
       "      <th>88894247</th>\n",
       "      <td>1.33</td>\n",
       "      <td>Alireza Aghaei</td>\n",
       "    </tr>\n",
       "    <tr>\n",
       "      <th>...</th>\n",
       "      <td>...</td>\n",
       "      <td>...</td>\n",
       "    </tr>\n",
       "    <tr>\n",
       "      <th>88893631</th>\n",
       "      <td>1.33</td>\n",
       "      <td>Tanin Zeraati</td>\n",
       "    </tr>\n",
       "    <tr>\n",
       "      <th>88892488</th>\n",
       "      <td>2.33</td>\n",
       "      <td>Tina Aliakbarpour</td>\n",
       "    </tr>\n",
       "    <tr>\n",
       "      <th>88893832</th>\n",
       "      <td>-1.00</td>\n",
       "      <td>Not Submitted</td>\n",
       "    </tr>\n",
       "    <tr>\n",
       "      <th>88892329</th>\n",
       "      <td>-1.00</td>\n",
       "      <td>Not Submitted</td>\n",
       "    </tr>\n",
       "    <tr>\n",
       "      <th>3058</th>\n",
       "      <td>-1.00</td>\n",
       "      <td>Not Submitted</td>\n",
       "    </tr>\n",
       "  </tbody>\n",
       "</table>\n",
       "<p>100 rows × 2 columns</p>\n",
       "</div>"
      ],
      "text/plain": [
       "          late               name\n",
       "id                               \n",
       "88891081 -1.00      Not Submitted\n",
       "88894242  0.00         Ali bahari\n",
       "88892635  2.33      Ali Saeizadeh\n",
       "88894003 -1.00      Not Submitted\n",
       "88894247  1.33     Alireza Aghaei\n",
       "...        ...                ...\n",
       "88893631  1.33      Tanin Zeraati\n",
       "88892488  2.33  Tina Aliakbarpour\n",
       "88893832 -1.00      Not Submitted\n",
       "88892329 -1.00      Not Submitted\n",
       "3058     -1.00      Not Submitted\n",
       "\n",
       "[100 rows x 2 columns]"
      ]
     },
     "execution_count": 34,
     "metadata": {},
     "output_type": "execute_result"
    }
   ],
   "source": [
    "lates_csv"
   ]
  },
  {
   "cell_type": "code",
   "execution_count": null,
   "metadata": {},
   "outputs": [],
   "source": []
  }
 ],
 "metadata": {
  "kernelspec": {
   "display_name": "Python 3",
   "language": "python",
   "name": "python3"
  },
  "language_info": {
   "codemirror_mode": {
    "name": "ipython",
    "version": 3
   },
   "file_extension": ".py",
   "mimetype": "text/x-python",
   "name": "python",
   "nbconvert_exporter": "python",
   "pygments_lexer": "ipython3",
   "version": "3.7.7-final"
  },
  "toc": {
   "base_numbering": 1,
   "nav_menu": {},
   "number_sections": true,
   "sideBar": false,
   "skip_h1_title": true,
   "title_cell": "Table of Contents",
   "title_sidebar": "Contents",
   "toc_cell": true,
   "toc_position": {},
   "toc_section_display": true,
   "toc_window_display": false
  },
  "varInspector": {
   "cols": {
    "lenName": 16,
    "lenType": 16,
    "lenVar": 40
   },
   "kernels_config": {
    "python": {
     "delete_cmd_postfix": "",
     "delete_cmd_prefix": "del ",
     "library": "var_list.py",
     "varRefreshCmd": "print(var_dic_list())"
    },
    "r": {
     "delete_cmd_postfix": ") ",
     "delete_cmd_prefix": "rm(",
     "library": "var_list.r",
     "varRefreshCmd": "cat(var_dic_list()) "
    }
   },
   "types_to_exclude": [
    "module",
    "function",
    "builtin_function_or_method",
    "instance",
    "_Feature"
   ],
   "window_display": false
  }
 },
 "nbformat": 4,
 "nbformat_minor": 2
}
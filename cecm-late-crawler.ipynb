{
 "cells": [
  {
   "cell_type": "markdown",
   "metadata": {},
   "source": [
    "# CECM Late Crawler\n",
    "\n",
    "This code crawle status of submissions. \n",
    "\n",
    "* You should have a csv containing student ids.\n",
    "* You can use [hadi's repository](https://github.com/hadisfr/cecm-sid-crawler) to crawle student ids."
   ]
  },
  {
   "cell_type": "code",
   "execution_count": 1,
   "metadata": {},
   "outputs": [],
   "source": [
    "import requests\n",
    "import re\n",
    "from getpass import getpass\n",
    "import pandas as pd"
   ]
  },
  {
   "cell_type": "code",
   "execution_count": 17,
   "metadata": {},
   "outputs": [
    {
     "name": "stdout",
     "output_type": "stream",
     "text": [
      "Get Late Submissions from CECM\n",
      "AssignmentID: 86501\n",
      "Session[MoodleSession]: ········\n",
      "CSV Containing IDs Path: ids.csv\n",
      "Output CSV File Name: lates\n"
     ]
    }
   ],
   "source": [
    "print(\"Get Late Submissions from CECM\")\n",
    "assignment_id = int(input(\"AssignmentID: \"))\n",
    "session = getpass(\"Session[MoodleSession]: \")\n",
    "id_csv_path = input(\"CSV Containing IDs Path: \")\n",
    "file_name = input(\"Output CSV File Name: \")"
   ]
  },
  {
   "cell_type": "code",
   "execution_count": 95,
   "metadata": {},
   "outputs": [],
   "source": [
    "def print_progressbar(title, i, l):\n",
    "    percentage = i / l * 100\n",
    "    print( title + \"\\t\" + \"%s\\t%.2f%% (%d of %d)\\t\\r\" % (int(percentage / 10) * \"|\" + (10 - int(percentage / 10)) * \".\", percentage, i, l), end='\\r')"
   ]
  },
  {
   "cell_type": "code",
   "execution_count": 96,
   "metadata": {},
   "outputs": [],
   "source": [
    "def get_late_submissions(session, assignment_id):\n",
    "\n",
    "    print_progressbar('Fetching Page' ,0, 100)\n",
    "    request_response = requests.post(\n",
    "        f\"https://cecm.ut.ac.ir/mod/assign/view.php?id={assignment_id}&action=grading\", \n",
    "        cookies={'MoodleSession': session},\n",
    "        data={\n",
    "            'unified-filters[]': \"4:5\",  # role: student\n",
    "            'unified-filter-submitted': 1,\n",
    "        }\n",
    "    ).text.replace(\"\\n\", \"\")\n",
    "    print_progressbar('Fetching Page' ,100, 100)\n",
    "    late_pattern = (\n",
    "        r'<tr[^>]*class=\"user(?P<id>[0-9]+)[^>]*>.*?'\n",
    "        r'<td class=\"cell c2\"[^>]*>.*?<a[^>]*>(?P<name>[^<]+)</a></td>.*?'\n",
    "        r'<td class=\"cell c4\"[^>]*>.*?<div[^>]*>(?P<status>[^<]+)</div></td>.*?'\n",
    "        r'</tr>'\n",
    "    )\n",
    "    founded = list(re.finditer(late_pattern, request_response))\n",
    "    groupdicts = []\n",
    "    for idx, entry in enumerate(founded):\n",
    "        groupdicts.append(entry.groupdict())\n",
    "        print_progressbar('Crawling Submissions' ,idx+1, len(founded))\n",
    "    return groupdicts"
   ]
  },
  {
   "cell_type": "code",
   "execution_count": 97,
   "metadata": {
    "scrolled": false
   },
   "outputs": [
    {
     "name": "stdout",
     "output_type": "stream",
     "text": [
      "Crawling Submissions\t||||||||||\t100.00% (78 of 78)\t"
     ]
    }
   ],
   "source": [
    "lates = get_late_submissions(session, assignment_id)"
   ]
  },
  {
   "cell_type": "code",
   "execution_count": 98,
   "metadata": {},
   "outputs": [],
   "source": [
    "lates_csv = pd.read_csv(id_csv_path, index_col='id')"
   ]
  },
  {
   "cell_type": "code",
   "execution_count": 99,
   "metadata": {},
   "outputs": [],
   "source": [
    "lates_csv['late'] = 'Not Submitted'\n",
    "lates_csv['name'] = 'Not Submitted'"
   ]
  },
  {
   "cell_type": "code",
   "execution_count": 100,
   "metadata": {},
   "outputs": [],
   "source": [
    "for idx, late in enumerate(lates) :\n",
    "    lates_csv.at[int(late['id']), 'name'] = late['name']\n",
    "    lates_csv.at[int(late['id']), 'late'] = late['status']"
   ]
  },
  {
   "cell_type": "code",
   "execution_count": 101,
   "metadata": {},
   "outputs": [],
   "source": [
    "def cint(x):\n",
    "    return int(x) if x else 0"
   ]
  },
  {
   "cell_type": "code",
   "execution_count": 102,
   "metadata": {},
   "outputs": [],
   "source": [
    "def AP_grade_system_mapper(s): \n",
    "    if s == 'Not Submitted':\n",
    "        return -1\n",
    "    elif s == 'Submitted for grading':\n",
    "        return 0\n",
    "    else :\n",
    "        times = re.search('((?P<days>[0-9]+) days )?((?P<day>[0-9]+) day )?((?P<hours>[0-9]+) hours )?((?P<hour>[0-9]+) hour )?((?P<mins>[0-9]+) mins )?((?P<min>[0-9]+) min )?((?P<secs>[0-9]+) secs )?', s).groupdict()\n",
    "        days, hours, mins, secs = cint(times['days'])+cint(times['day']), cint(times['hours'])+cint(times['hour']), cint(times['mins'])+cint(times['min']), cint(times['secs'])\n",
    "        total_time_in_mins = days*24*60 + hours*60 + mins\n",
    "        if total_time_in_mins <= 4: return  0\n",
    "        elif total_time_in_mins <= 3*60: return  0.33\n",
    "        elif total_time_in_mins >= 75*60: return  -1\n",
    "        else: return int((total_time_in_mins - 3*60) / (24*60)) + 1.33"
   ]
  },
  {
   "cell_type": "code",
   "execution_count": 103,
   "metadata": {},
   "outputs": [],
   "source": [
    "lates_csv['late'] = lates_csv['late'].apply(AP_grade_system_mapper)"
   ]
  },
  {
   "cell_type": "code",
   "execution_count": 104,
   "metadata": {},
   "outputs": [],
   "source": [
    "lates_csv.to_csv(f'{file_name}.csv')"
   ]
  }
 ],
 "metadata": {
  "kernelspec": {
   "display_name": "Python 3",
   "language": "python",
   "name": "python3"
  },
  "language_info": {
   "codemirror_mode": {
    "name": "ipython",
    "version": 3
   },
   "file_extension": ".py",
   "mimetype": "text/x-python",
   "name": "python",
   "nbconvert_exporter": "python",
   "pygments_lexer": "ipython3",
   "version": "3.7.0"
  },
  "toc": {
   "base_numbering": 1,
   "nav_menu": {},
   "number_sections": true,
   "sideBar": false,
   "skip_h1_title": true,
   "title_cell": "Table of Contents",
   "title_sidebar": "Contents",
   "toc_cell": true,
   "toc_position": {},
   "toc_section_display": true,
   "toc_window_display": false
  },
  "varInspector": {
   "cols": {
    "lenName": 16,
    "lenType": 16,
    "lenVar": 40
   },
   "kernels_config": {
    "python": {
     "delete_cmd_postfix": "",
     "delete_cmd_prefix": "del ",
     "library": "var_list.py",
     "varRefreshCmd": "print(var_dic_list())"
    },
    "r": {
     "delete_cmd_postfix": ") ",
     "delete_cmd_prefix": "rm(",
     "library": "var_list.r",
     "varRefreshCmd": "cat(var_dic_list()) "
    }
   },
   "types_to_exclude": [
    "module",
    "function",
    "builtin_function_or_method",
    "instance",
    "_Feature"
   ],
   "window_display": false
  }
 },
 "nbformat": 4,
 "nbformat_minor": 2
}
